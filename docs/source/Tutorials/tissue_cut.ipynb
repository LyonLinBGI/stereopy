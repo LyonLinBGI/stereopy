{
 "cells": [
  {
   "cell_type": "markdown",
   "id": "a167180a",
   "metadata": {},
   "source": [
    "# TissueCut segmentation\n",
    "\n",
    "\n",
    "This example shows how to use the function of tissue cut. First, you need to download the model from the cloud disk to the local directory.\n",
    "\n",
    "Download [models](https://pan.genomics.cn/ucdisk/s/ai22e2) .\n",
    "\n",
    "It is assumed that the local storage path of the model is './weight_tissue_cut_tool_220304.hdf5'.\n"
   ]
  },
  {
   "cell_type": "markdown",
   "id": "a89974ba",
   "metadata": {},
   "source": [
    "The interface function of tissue cut is `im.tissue_im`.\n",
    "\n",
    "We support the segmentation of two types of images, which are **RNA** and **ssDNA** images.\n",
    "When the input image is ssDNA-type, setting the value of `src_img_type` parameter to `stereo.image.tissue_cut.pipeline.ssDNA`,\n",
    "otherwise to `stereo.image.tissue_cut.pipeline.RNA` for RNA-type image.\n",
    "\n",
    "We provide two methods for the segmentation.\n",
    "When the value of `seg_method` is `stereo.image.tissue_cut.pipeline.DEEP`, use the deep learning method.\n",
    "When the `seg_method` value is `stereo.image.tissue_cut.pipeline.INTENSITY`, the intensity method is used.\n",
    "\n",
    "Show using the deep learning method to segment a ssDNA-type image:"
   ]
  },
  {
   "cell_type": "code",
   "execution_count": 2,
   "id": "fdd2e409",
   "metadata": {
    "ExecuteTime": {
     "end_time": "2021-12-31T03:34:29.102603Z",
     "start_time": "2021-12-31T03:33:14.372647Z"
    }
   },
   "outputs": [
    {
     "name": "stdout",
     "output_type": "stream",
     "text": [
      "16 uint16\n"
     ]
    },
    {
     "data": {
      "text/plain": [
       "1"
      ]
     },
     "execution_count": 2,
     "metadata": {},
     "output_type": "execute_result"
    }
   ],
   "source": [
    "# import TissueCut class, source-img-type enum `ssDNA` and segmentation-method enum `DEEP`\n",
    "from stereo.image.tissue_cut.pipeline import TissueCut, ssDNA, DEEP\n",
    "\n",
    "# Initial the TissueCut object\n",
    "tissue_cut = TissueCut(\n",
    "    seg_method=DEEP,\n",
    "    src_img_type=ssDNA,\n",
    "    src_img_path='../demo_data/SS200000135TL_D1_regist_new.tif',\n",
    "    dst_img_path='../demo_data/res_rna/',\n",
    "    model_path=\"stereo/image/tissue_cut/.model/weight_tissue_cut_tool_220304.hdf5\"  # don't forget to download it, when setting `ssDNA-type`\n",
    ")\n",
    "# Real do the image transforming\n",
    "tissue_cut.tissue_seg()"
   ]
  }
 ],
 "metadata": {
  "kernelspec": {
   "display_name": "st38_image",
   "language": "python",
   "name": "st38_image"
  },
  "language_info": {
   "codemirror_mode": {
    "name": "ipython",
    "version": 3
   },
   "file_extension": ".py",
   "mimetype": "text/x-python",
   "name": "python",
   "nbconvert_exporter": "python",
   "pygments_lexer": "ipython3",
   "version": "3.8.0"
  },
  "toc": {
   "base_numbering": 1,
   "nav_menu": {},
   "number_sections": true,
   "sideBar": true,
   "skip_h1_title": false,
   "title_cell": "Table of Contents",
   "title_sidebar": "Contents",
   "toc_cell": false,
   "toc_position": {},
   "toc_section_display": true,
   "toc_window_display": false
  },
  "varInspector": {
   "cols": {
    "lenName": 16,
    "lenType": 16,
    "lenVar": 40
   },
   "kernels_config": {
    "python": {
     "delete_cmd_postfix": "",
     "delete_cmd_prefix": "del ",
     "library": "var_list.py",
     "varRefreshCmd": "print(var_dic_list())"
    },
    "r": {
     "delete_cmd_postfix": ") ",
     "delete_cmd_prefix": "rm(",
     "library": "var_list.r",
     "varRefreshCmd": "cat(var_dic_list()) "
    }
   },
   "types_to_exclude": [
    "module",
    "function",
    "builtin_function_or_method",
    "instance",
    "_Feature"
   ],
   "window_display": false
  }
 },
 "nbformat": 4,
 "nbformat_minor": 5
}