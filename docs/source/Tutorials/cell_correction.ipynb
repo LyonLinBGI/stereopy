{
 "cells": [
  {
   "cell_type": "markdown",
   "metadata": {},
   "source": [
    "# Cell correction \n",
    "\n",
    "These examples show how to use Stereopy to correct cells.\n",
    "\n",
    "Generally, there are two ways to do it.\n",
    "  1. Correcting from bgef and mask.\n",
    "  2. Correcting from gem and mask."
   ]
  },
  {
   "cell_type": "markdown",
   "metadata": {},
   "source": [
    "## Correcting from bgef and mask\n",
    "\n",
    "On this way, you should specify the path of bgef by parameter bgef_path, the path of mask by parameter mask_path and the path of directory to save corrected result by parameter out_dir.\n",
    "\n",
    "You can specify the count of processes by parameter process_count, default to 10.\n",
    "\n",
    "Default to return an object of StereoExpData, if you set the parameter only_save_result to True, only return the path of cgef after correcting.\n",
    "\n",
    "In the directory specified by out_dir, you can see some files, include:\n",
    "  1. **.raw.cellbin.gef - the cgef without correcting, generated from bgef and mask.\n",
    "  2. **.adjusted.gem - the gem after correcting.\n",
    "  3. **.adjusted.cellbin.gef - the cgef after correcting, generated from the **.adjusted.gem.\n",
    "  4. err.log - record the cells can not be corrected, these cells are not contained in **.adusted.gem and **.adjusted.cellbin.gef."
   ]
  },
  {
   "cell_type": "code",
   "execution_count": null,
   "metadata": {},
   "outputs": [],
   "source": [
    "from stereo.tools import cell_correct\n",
    "\n",
    "bgef_path = \"FP200000443TL_E2.bgef\"\n",
    "mask_path = \"FP200000443TL_E2_mask.tif\"\n",
    "out_dir = \"cell_correct_result\"\n",
    "only_save_result = False\n",
    "data = cell_correct(out_dir=out_dir,\n",
    "                    bgef_path=bgef_path,\n",
    "                    mask_path=mask_path,\n",
    "                    process_count=10,\n",
    "                    only_save_result=only_save_result)"
   ]
  },
  {
   "cell_type": "markdown",
   "metadata": {},
   "source": [
    "Sometimes, you may not have corresponding mask but a ssdna image, you can generate mask from ssdna image.\n",
    "\n",
    "Now, you should specify the path of ssdna image by parameter image_path, the path of model for predicting by parameter model_path and the type of model by parameter model_type.\n",
    "\n",
    "The type of model only can be specified to deep-learning or deep-cell, more deails on [cell segmentation](cell_segmentation.ipynb).\n",
    "\n",
    "You can also predict on gpu, specify gpu id by parameter gpu, if -1, predict on cpu.\n",
    "\n",
    "In the out_dir directory, there is a new directory named deep-learning or deep-cell, it contains the generated mask whoes name is ends with mask.tif."
   ]
  },
  {
   "cell_type": "code",
   "execution_count": null,
   "metadata": {},
   "outputs": [],
   "source": [
    "from stereo.tools import cell_correct\n",
    "\n",
    "out_dir = \"cell_correct_result\"\n",
    "bgef_path = \"SS200000561BL_B3.bgef\"\n",
    "image_path = \"SS200000561BL_B3_regist.tif\"\n",
    "model_path = \"cell_segmentation/seg_model_20211210.pth\"\n",
    "model_type = \"deep-learning\"\n",
    "#model_path = \"cell_segmentation_deepcell\"\n",
    "#model_type = \"deep-cell\"\n",
    "gpu = -1\n",
    "only_save_result = False\n",
    "data = cell_correct(out_dir=out_dir,\n",
    "                    bgef_path=bgef_path,\n",
    "                    image_path=image_path,\n",
    "                    model_path=model_path,\n",
    "                    model_type=model_type,\n",
    "                    gpu=gpu,\n",
    "                    process_count=10,\n",
    "                    only_save_result=only_save_result)\n"
   ]
  },
  {
   "cell_type": "markdown",
   "metadata": {},
   "source": [
    "## Correcting from gem and mask\n",
    " \n",
    "On this way, you should specify the path of gem by parameter gem_path, the path of mask by parameter mask_path and the path of directory to save corrected result by parameter out_dir.\n",
    "\n",
    "In the out_dir directory, you can also see a file named **.bgef, this is the bgef generated from mask."
   ]
  },
  {
   "cell_type": "code",
   "execution_count": null,
   "metadata": {},
   "outputs": [],
   "source": [
    "from stereo.tools import cell_correct\n",
    "\n",
    "gem_path = \"FP200000443TL_E2.gem\"\n",
    "mask_path = \"FP200000443TL_E2_mask.tif\"\n",
    "out_dir = \"cell_correct_result\"\n",
    "only_save_result = False\n",
    "data = cell_correct(out_dir=out_dir,\n",
    "                    gem_path=gem_path,\n",
    "                    mask_path=mask_path,\n",
    "                    process_count=10,\n",
    "                    only_save_result=only_save_result)"
   ]
  },
  {
   "cell_type": "markdown",
   "metadata": {},
   "source": [
    "Similar to the way on bgef and ssdna image, you can correct cells from gem and ssdna image."
   ]
  },
  {
   "cell_type": "code",
   "execution_count": null,
   "metadata": {},
   "outputs": [],
   "source": [
    "from stereo.tools import cell_correct\n",
    "\n",
    "out_dir = \"cell_correct_result\"\n",
    "gem_path = \"/ldfssz1/ST_BI/USER/stereopy/test/tanliwei/test/test_data/SS200000561BL_B3.gem\"\n",
    "image_path = \"/ldfssz1/ST_BI/USER/stereopy/test/tanliwei/test/test_data/SS200000561BL_B3_regist.tif\"\n",
    "model_path = \"/ldfssz1/ST_BI/USER/stereopy/test/tanliwei/test/seg_models/cell_segmentation/seg_model_20211210.pth\"\n",
    "model_type = \"deep-learning\"\n",
    "#model_path = \"/ldfssz1/ST_BI/USER/stereopy/test/tanliwei/test/seg_models/cell_segmentation_deepcell\"\n",
    "#model_type = \"deep-cell\"\n",
    "gpu = -1\n",
    "only_save_result = False\n",
    "data = cell_correct(out_dir=out_dir,\n",
    "                    gem_path=gem_path,\n",
    "                    image_path=image_path,\n",
    "                    model_path=model_path,\n",
    "                    model_type=model_type,\n",
    "                    gpu=gpu,\n",
    "                    process_count=10,\n",
    "                    only_save_result=only_save_result)"
   ]
  },
  {
   "cell_type": "markdown",
   "metadata": {},
   "source": [
    "## Runing on jupyter notebook\n",
    "\n",
    "Jupyter notebook can not support multiprocess directly, if you want to run on notebook, refer to the following two steps.\n",
    "\n",
    "The first, you need to write the source code into a .py file by command %%writefile.\n",
    "\n",
    "After runing the example below, you should see a file named temp.py in current directory."
   ]
  },
  {
   "cell_type": "code",
   "execution_count": null,
   "metadata": {},
   "outputs": [],
   "source": [
    "%%writefile temp.py\n",
    "from stereo.tools import cell_correct\n",
    "\n",
    "bgef_path = \"FP200000443TL_E2.bgef\"\n",
    "mask_path = \"FP200000443TL_E2_mask.tif\"\n",
    "out_dir = \"cell_correct_result\"\n",
    "only_save_result = False\n",
    "data = cell_correct(out_dir=out_dir,\n",
    "                    bgef_path=bgef_path,\n",
    "                    mask_path=mask_path,\n",
    "                    process_count=10,\n",
    "                    only_save_result=only_save_result)"
   ]
  },
  {
   "cell_type": "markdown",
   "metadata": {},
   "source": [
    "And the second, run the .py file by command %run"
   ]
  },
  {
   "cell_type": "code",
   "execution_count": null,
   "metadata": {},
   "outputs": [],
   "source": [
    "%run temp.py"
   ]
  }
 ],
 "metadata": {
  "language_info": {
   "name": "python"
  },
  "orig_nbformat": 4
 },
 "nbformat": 4,
 "nbformat_minor": 2
}
